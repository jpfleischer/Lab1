response = string(input('Hello! Are you doing well today? Type yes or no: '))
print(response)