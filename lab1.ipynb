{
 "metadata": {
  "language_info": {
   "codemirror_mode": {
    "name": "ipython",
    "version": 3
   },
   "file_extension": ".py",
   "mimetype": "text/x-python",
   "name": "python",
   "nbconvert_exporter": "python",
   "pygments_lexer": "ipython3",
   "version": "3.9.5"
  },
  "orig_nbformat": 2,
  "kernelspec": {
   "name": "python395jvsc74a57bd011fc141419a455748615588ca451337eaec63d1d64c3783b2264b902ed0c7821",
   "display_name": "Python 3.9.5 64-bit"
  },
  "metadata": {
   "interpreter": {
    "hash": "11fc141419a455748615588ca451337eaec63d1d64c3783b2264b902ed0c7821"
   }
  }
 },
 "nbformat": 4,
 "nbformat_minor": 2,
 "cells": [
  {
   "cell_type": "code",
   "execution_count": 27,
   "metadata": {},
   "outputs": [
    {
     "output_type": "stream",
     "name": "stdout",
     "text": [
      "That is good to hear.\n"
     ]
    }
   ],
   "source": [
    "response = str(input('Hi, are you doing well today? Yes or No: '))\n",
    "if response == \"Yes\" or response == \"yes\":\n",
    "    print('That is good to hear.')\n",
    "else:\n",
    "    print('Things will get better soon.')"
   ]
  },
  {
   "cell_type": "code",
   "execution_count": 28,
   "metadata": {},
   "outputs": [
    {
     "output_type": "stream",
     "name": "stdout",
     "text": [
      "22\n<class 'int'>\n"
     ]
    }
   ],
   "source": [
    "age = int(input('Please enter your age: '))\n",
    "print(age)\n",
    "print(type(age))"
   ]
  },
  {
   "cell_type": "code",
   "execution_count": 29,
   "metadata": {},
   "outputs": [
    {
     "output_type": "stream",
     "name": "stdout",
     "text": [
      "25.5\n<class 'float'>\n"
     ]
    }
   ],
   "source": [
    "floatnum = float(input('Enter a number and it will be stored as a float: '))\n",
    "print(floatnum)\n",
    "print(type(floatnum))"
   ]
  },
  {
   "cell_type": "code",
   "execution_count": 30,
   "metadata": {},
   "outputs": [
    {
     "output_type": "stream",
     "name": "stdout",
     "text": [
      "9\n"
     ]
    }
   ],
   "source": [
    "sum = (4+5)\n",
    "print(sum)"
   ]
  }
 ]
}